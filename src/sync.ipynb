{
 "cells": [
  {
   "cell_type": "code",
   "execution_count": 3,
   "metadata": {},
   "outputs": [],
   "source": [
    "__author__ = \"Nick Calvin\"\n",
    "__copyright__ = \"Copyright 2025, The Untrack Project\"\n",
    "__credits__ = [\"Nick Calvin\"]\n",
    "__license__ = \"GPL\"\n",
    "__version__ = \"0.0.1\"\n",
    "__maintainer__ = \"Nick Calvin\"\n",
    "__email__ = \"nicholasjuan19@yahoo.com\""
   ]
  },
  {
   "cell_type": "code",
   "execution_count": 4,
   "metadata": {},
   "outputs": [],
   "source": [
    "import warnings\n",
    "warnings.filterwarnings(\"ignore\", category=FutureWarning)\n",
    "\n",
    "import logger as ll\n",
    "logger = ll.get_logger(__name__)\n",
    "# logger.handlers.clear()\n",
    "logger.propagate = False\n",
    "\n",
    "import librosa\n",
    "import numpy as np\n",
    "import IPython\n",
    "\n",
    "\n",
    "import matplotlib\n",
    "matplotlib.interactive(False)\n",
    "import matplotlib.pyplot as plt\n",
    "plt.switch_backend('agg')\n",
    "\n",
    "import scipy\n"
   ]
  },
  {
   "cell_type": "code",
   "execution_count": 5,
   "metadata": {},
   "outputs": [],
   "source": [
    "def audio_load(audio):\n",
    "    logger.info(f\"Loading audio file {audio}\")\n",
    "    y, sr = librosa.load(audio)\n",
    "    y = librosa.to_mono(y)\n",
    "    tempo = librosa.beat.tempo(y=y, sr=sr)\n",
    "    duration = librosa.get_duration(y=y, sr=sr)\n",
    "    logger.info(f\"{audio} loaded! \\n BPM: {int(tempo[0])}\\n Duration: {int(duration)}s \")\n",
    "    return y, sr\n",
    "\n",
    "def play(audio, autoplay=True):\n",
    "    print(f'Playing audio from: {str(audio)}')\n",
    "    display(IPython.display.Audio(audio, autoplay=True))\n"
   ]
  },
  {
   "cell_type": "code",
   "execution_count": 16,
   "metadata": {},
   "outputs": [],
   "source": [
    "def check_sr(clip_y, clip_sr, ref_y, ref_sr):\n",
    "    if clip_sr == ref_sr:\n",
    "        logger.info(\"Sample rate already match, skipping matching process.\")\n",
    "        return clip_y, ref_y\n",
    "    else:\n",
    "        logger.info(\"Sample rate did not match, resampling to 22kHz.\")\n",
    "        librosa.resample(clip_y, )\n",
    "        clip_y = librosa.resample(clip_y, clip_sr, 22050, res_type='soxr_hq', fix=True, scale=False, axis=-1)\n",
    "        ref_y = librosa.resample(ref_y, ref_sr, 22050, res_type='soxr_hq', fix=True, scale=False, axis=-1)\n",
    "\n",
    "        logger.info(\"Resampling success, returning y and sr.\")\n",
    "        return clip_y, ref_y"
   ]
  },
  {
   "cell_type": "markdown",
   "metadata": {},
   "source": [
    "<hr>"
   ]
  },
  {
   "cell_type": "markdown",
   "metadata": {},
   "source": [
    "<h1><b>Предупрезхдениэ!</b></h1>\n",
    "<br>\n",
    "<b>Клип/clip </b> Аудиоконтент в которомо будет удалена музыка (Audiokontent, v kotorom budet udalena muzyka)\n",
    "<br><br>\n",
    "<b>Ссылка/reference </b> Музыка в клип, который будет удален (Muzyka v klip, kotoryj budet udalen)\n"
   ]
  },
  {
   "cell_type": "code",
   "execution_count": 9,
   "metadata": {},
   "outputs": [
    {
     "name": "stderr",
     "output_type": "stream",
     "text": [
      "[2025-02-09 18:43:23] INFO: Loading audio file ../examples/audio1.mp3\n",
      "[2025-02-09 18:43:23] INFO: ../examples/audio1.mp3 loaded! \n",
      " BPM: 135\n",
      " Duration: 7s \n",
      "[2025-02-09 18:43:23] INFO: Loading audio file ../examples/audio2.mp3\n",
      "[2025-02-09 18:43:25] INFO: ../examples/audio2.mp3 loaded! \n",
      " BPM: 99\n",
      " Duration: 286s \n"
     ]
    }
   ],
   "source": [
    "clip = '../examples/audio1.mp3'\n",
    "reference = '../examples/audio2.mp3'\n",
    "clip_y, clip_sr = audio_load(clip) # Short clip\n",
    "ref_y, ref_sr = audio_load(reference) # Full audio\n",
    "# play(audio1)\n",
    "# play(audio2)"
   ]
  },
  {
   "cell_type": "code",
   "execution_count": null,
   "metadata": {},
   "outputs": [
    {
     "name": "stderr",
     "output_type": "stream",
     "text": [
      "[2025-02-09 18:46:33] INFO: Sample rate already match, skipping matching process.\n"
     ]
    }
   ],
   "source": [
    "clip_y, ref_y = check_sr(clip_y, clip_sr, ref_y, ref_sr)\n"
   ]
  }
 ],
 "metadata": {
  "kernelspec": {
   "display_name": ".untrack",
   "language": "python",
   "name": "python3"
  },
  "language_info": {
   "codemirror_mode": {
    "name": "ipython",
    "version": 3
   },
   "file_extension": ".py",
   "mimetype": "text/x-python",
   "name": "python",
   "nbconvert_exporter": "python",
   "pygments_lexer": "ipython3",
   "version": "3.12.0"
  }
 },
 "nbformat": 4,
 "nbformat_minor": 2
}
