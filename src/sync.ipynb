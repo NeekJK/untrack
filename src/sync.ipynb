{
 "cells": [
  {
   "cell_type": "code",
   "execution_count": 1,
   "metadata": {},
   "outputs": [],
   "source": [
    "__author__ = \"Nick Calvin\"\n",
    "__copyright__ = \"Copyright 2025, The Untrack Project\"\n",
    "__credits__ = [\"Nick Calvin\"]\n",
    "__license__ = \"GPL\"\n",
    "__version__ = \"0.0.1\"\n",
    "__maintainer__ = \"Nick Calvin\"\n",
    "__email__ = \"nicholasjuan19@yahoo.com\""
   ]
  },
  {
   "cell_type": "code",
   "execution_count": 3,
   "metadata": {},
   "outputs": [],
   "source": [
    "import warnings\n",
    "warnings.filterwarnings(\"ignore\", category=FutureWarning)\n",
    "\n",
    "import logger as ll\n",
    "import librosa\n",
    "import numpy as np\n",
    "import matplotlib\n",
    "matplotlib.interactive(False)\n",
    "import matplotlib.pyplot as plt\n",
    "plt.switch_backend('agg')\n",
    "import scipy\n",
    "logger = ll.get_logger(__name__)"
   ]
  },
  {
   "cell_type": "code",
   "execution_count": 4,
   "metadata": {},
   "outputs": [],
   "source": [
    "def audio_load(audio):\n",
    "    logger.info(f\"Loading audio file {audio}\")\n",
    "    y, sr = librosa.load(audio)\n",
    "    tempo = librosa.beat.tempo(y=y, sr=sr)\n",
    "    duration = librosa.get_duration(y=y, sr=sr)\n",
    "    logger.info(f\"{audio} loaded! \\n BPM: {int(tempo[0])}\\n Duration: {int(duration)}s \")\n",
    "    return y, sr\n",
    "\n",
    "def audio_sync(audio1, audio2):\n",
    "    y1, sr1 = audio_load(audio1) # Short clip\n",
    "    y2, sr2 = audio_load(audio2) # Full audio\n",
    "    logger.info(\"Cross-correlating both audios ..\")\n",
    "\n",
    "    # Zero-padding\n",
    "    y1_padded = np.pad(y1, (0, len(y2) - len(y1)), 'constant') \n",
    "\n",
    "    # Correlating\n",
    "    correlation  = scipy.signal.correlate(y1_padded, y2, mode='full')\n",
    "\n",
    "    # Lag\n",
    "    lag = np.argmax(correlation) - (len(y1_padded) - 1) \n",
    "\n",
    "    # Time offset\n",
    "    time_offset = lag / sr1\n",
    "    \n",
    "    # Time shifting\n",
    "    y1_shifted = np.roll(y1, lag)\n",
    "\n",
    "\n",
    "\n",
    "\n",
    "    # peak_index = np.argmax(corr)\n",
    "    # peak_lag = lags[peak_index]\n",
    "\n",
    "    # if peak_lag > 0:\n",
    "    # # Delay y2 by peak_lag samples\n",
    "    #     y2_aligned = np.concatenate((np.zeros(peak_lag), y2_norm))[:len(y1_norm)]   \n",
    "    # else:\n",
    "    # # Advance y2 by -peak_lag samples\n",
    "    #     y2_aligned = y2_norm[-peak_lag:]\n",
    "\n",
    "    plt.figure(figsize=(10, 6))\n",
    "    plt.plot(y1_shifted, label='y1_shifted')\n",
    "    plt.plot(y2, label='y2')\n",
    "    plt.legend()\n",
    "    plt.xlabel('Time')\n",
    "    plt.ylabel('Amplitude')\n",
    "    plt.title('Aligned Signals')\n",
    "    plt.show()\n",
    "    plt.savefig('my_plot.png')\n",
    "    # print(corr)\n"
   ]
  },
  {
   "cell_type": "code",
   "execution_count": 7,
   "metadata": {},
   "outputs": [
    {
     "name": "stderr",
     "output_type": "stream",
     "text": [
      "[2025-01-19 23:44:42] INFO: Librosa: 0.10.2.post1\n",
      "[2025-01-19 23:44:42] INFO: Loading audio file ../examples/audio1.mp3\n",
      "[2025-01-19 23:44:44] INFO: ../examples/audio1.mp3 loaded! \n",
      " BPM: 135\n",
      " Duration: 7s \n",
      "[2025-01-19 23:44:44] INFO: Loading audio file ../examples/audio2.mp3\n",
      "[2025-01-19 23:44:46] INFO: ../examples/audio2.mp3 loaded! \n",
      " BPM: 99\n",
      " Duration: 286s \n",
      "[2025-01-19 23:44:46] INFO: Cross-correlating both audios ..\n",
      "C:\\Users\\nicho\\AppData\\Local\\Temp\\ipykernel_23112\\1930164237.py:49: UserWarning: FigureCanvasAgg is non-interactive, and thus cannot be shown\n",
      "  plt.show()\n"
     ]
    }
   ],
   "source": [
    "\n",
    "logger.info(f\"Librosa: {librosa.__version__}\")\n",
    "audio1 = '../examples/audio1.mp3'\n",
    "audio2 = '../examples/audio2.mp3'\n",
    "\n",
    "# audio_load('examples/audio1.mp3')\n",
    "audio_sync(audio1, audio2)\n",
    "# test()\n"
   ]
  },
  {
   "cell_type": "code",
   "execution_count": 8,
   "metadata": {},
   "outputs": [
    {
     "name": "stderr",
     "output_type": "stream",
     "text": [
      "[2025-01-19 23:47:14] INFO: Loading audio file ../examples/audio1.mp3\n",
      "[2025-01-19 23:47:14] INFO: ../examples/audio1.mp3 loaded! \n",
      " BPM: 135\n",
      " Duration: 7s \n",
      "[2025-01-19 23:47:14] INFO: Loading audio file ../examples/audio2.mp3\n",
      "[2025-01-19 23:47:15] INFO: ../examples/audio2.mp3 loaded! \n",
      " BPM: 99\n",
      " Duration: 286s \n"
     ]
    }
   ],
   "source": [
    "y1, sr1 = audio_load(audio1) # Short clip\n",
    "y2, sr2 = audio_load(audio2) # Full audio\n"
   ]
  },
  {
   "cell_type": "code",
   "execution_count": null,
   "metadata": {},
   "outputs": [],
   "source": [
    "# Add 0s to fill the missing gap of n2 (full duration song) - n1 (short duration clip)\n",
    "y1_padded = np.pad(y1, (0, len(y2) - len(y1)), 'constant') \n",
    "\n",
    "# Correlating\n",
    "correlation  = scipy.signal.correlate(y1_padded, y2, mode='full')\n",
    "\n",
    "# Lag\n",
    "lag = np.argmax(correlation) - (len(y1_padded) - 1) \n",
    "\n",
    "# Time offset\n",
    "time_offset = lag / sr1\n",
    "\n",
    "# Time shifting\n",
    "y1_shifted = np.roll(y1, lag)\n",
    "\n",
    "\n",
    "\n",
    "\n",
    "# peak_index = np.argmax(corr)\n",
    "# peak_lag = lags[peak_index]\n",
    "\n",
    "# if peak_lag > 0:\n",
    "# # Delay y2 by peak_lag samples\n",
    "#     y2_aligned = np.concatenate((np.zeros(peak_lag), y2_norm))[:len(y1_norm)]   \n",
    "# else:\n",
    "# # Advance y2 by -peak_lag samples\n",
    "#     y2_aligned = y2_norm[-peak_lag:]\n",
    "\n",
    "plt.figure(figsize=(10, 6))\n",
    "plt.plot(y1_shifted, label='y1_shifted')\n",
    "plt.plot(y2, label='y2')\n",
    "plt.legend()\n",
    "plt.xlabel('Time')\n",
    "plt.ylabel('Amplitude')\n",
    "plt.title('Aligned Signals')\n",
    "plt.show()\n",
    "plt.savefig('my_plot.png')\n",
    "# print(corr)"
   ]
  }
 ],
 "metadata": {
  "kernelspec": {
   "display_name": ".untrack",
   "language": "python",
   "name": "python3"
  },
  "language_info": {
   "codemirror_mode": {
    "name": "ipython",
    "version": 3
   },
   "file_extension": ".py",
   "mimetype": "text/x-python",
   "name": "python",
   "nbconvert_exporter": "python",
   "pygments_lexer": "ipython3",
   "version": "3.12.0"
  }
 },
 "nbformat": 4,
 "nbformat_minor": 2
}
